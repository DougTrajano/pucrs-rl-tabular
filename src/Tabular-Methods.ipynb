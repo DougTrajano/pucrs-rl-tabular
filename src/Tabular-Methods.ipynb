{
 "cells": [
  {
   "cell_type": "markdown",
   "source": [
    "# Tabular Methods Practical\n",
    "\n",
    "## Introduction\n",
    "\n",
    "In this practical, you will implement two tabular methods of reinforcement learning: [Q-Learning](https://en.wikipedia.org/wiki/Q-learning) and [Sarsa](https://en.wikipedia.org/wiki/State–action–reward–state–action) according to Sutton and Barto's book. Our implementation will be based on a simple [RLAgent](rl/agent.py) class provided by the instructor, and the simplest of the [Gym](https://github.com/openai/gym) environments."
   ],
   "metadata": {}
  },
  {
   "cell_type": "markdown",
   "source": [
    "<div class=\"alert alert-block alert-warning\">\n",
    "You will need to configure your environment following the instructions in the `README.md` file included in this repository.\n",
    "</div>"
   ],
   "metadata": {}
  },
  {
   "cell_type": "markdown",
   "source": [
    "## The agent interface\n",
    "\n",
    "In this notebook we will use a basic agent interface called [`RLAgent`](src/rl/agent.py). Open this file and become familiar with its key attributes and methods. \n",
    "\n",
    "The key attributes you will need for this notebook are the following:\n",
    "- `self.env` — a reference to the [environment from gym](https://github.com/openai/gym/blob/58ed658d9b15fd410c50d1fdb25a7cad9acb7fa4/gym/core.py#L8);\n",
    "- `self.episodes` — the number of episodes to train the agent when invoking [`RLAgent.learn()`](rl/agent.py#L125);\n",
    "- `self.alpha` — the *learning rate* to be used when computing the RL update;\n",
    "- `self.gamma` — the *discount factor* for the return computed during training; and\n",
    "- `self.q_table` — a dictionary of lists of floating point numbers indexed by the state and an action (e.g., `self.q_table[state][action]` should return the q-value of the `state`-`action` pair)\n",
    "- `self.actions` — an integer representing the size of the action space\n",
    "- `self.last_state` — the last state visited by the agent during learning\n",
    "- `self.last_action` — the last action chosen by the agent during learning\n",
    "- `self._random` — a reference to a Python [Random](https://docs.python.org/3/library/random.html#random.Random) object.\n",
    "\n",
    "Pay attention to the `self.random` object, and use it instead of the unbound methods from Python's [random library](https://docs.python.org/3/library/random.html), otherwise the tests will not work. \n",
    "\n",
    "The key methods you should be aware of are the following:\n",
    "- [`policy`](rl/agent.py#L90) — returns the greedy policy following the currently learned q-values;\n",
    "- [`epsilon_greedy_policy`](rl/agent.py#L101) — returns an $\\epsilon$-greedy policy;\n",
    "- [`agent_start`](rl/agent.py#L55) — the method to be called once *before each episode*;\n",
    "- [`agent_step`](rl/agent.py#L67) — the method to be called once at *each time step* within an episode;\n",
    "- [`agent_end`](rl/agent.py#L80) — the method to be called once at the *end of each episode* when the agent reaches a *terminal state*; and\n",
    "- [`learn`](rl/agent.py#L125) — runs the underlying learning algorithm for `self.episodes` episodes"
   ],
   "metadata": {}
  },
  {
   "cell_type": "markdown",
   "source": [
    "## Greedy and $\\epsilon$-Greedy Policies\n",
    "\n",
    "In the cell below, you need to implement both the greedy and the $\\epsilon$-greedy policy using the q-values stored in `self.q_table` and the $\\epsilon$ from `self.eps()`. \n",
    "\n",
    "Recall the definition of $\\epsilon$-greedy policy:\n",
    "\n",
    "For all $a \\in \\mathcal{A}$\n",
    "$$\\pi(a \\mid S_t) = \\begin{cases} 1 - \\epsilon +\\frac{\\epsilon}{|\\mathcal{A}|} & \\text{if}~a = A^* \\\\ \\frac{\\epsilon}{|\\mathcal{A}|} & \\text{if}~a \\neq A^*\\end{cases}$$\n",
    "where $A^* = \\arg\\max_{a}Q(S_t,a)$, with ties broken randomly (this is the greedy policy)."
   ],
   "metadata": {}
  },
  {
   "cell_type": "code",
   "execution_count": 1,
   "source": [
    "import gym\r\n",
    "import numpy as np\r\n",
    "from rl.agent import RLAgent, Action, State\r\n",
    "from random import Random\r\n",
    "from gym import Env\r\n",
    "from typing import Any, Collection, List, NoReturn, Sequence\r\n",
    "\r\n",
    "class TabularQLearner(RLAgent):\r\n",
    "    \"\"\"\r\n",
    "    A simple Tabular Q-Learning agent.\r\n",
    "    \"\"\"\r\n",
    "    def __init__(self,\r\n",
    "                 env: Env,\r\n",
    "                 episodes: int = 500,\r\n",
    "                 decaying_eps: bool = True,\r\n",
    "                 eps: float = 1.0,\r\n",
    "                 alpha: float = 0.5,\r\n",
    "                 decay: float = 0.000002,\r\n",
    "                 gamma: float = 0.9,\r\n",
    "                 rand: Random = Random(),\r\n",
    "                 **kwargs):\r\n",
    "        super().__init__(env, episodes=episodes, decaying_eps=decaying_eps, eps=eps, alpha=alpha, decay=decay, gamma=gamma, rand=rand)\r\n",
    "        self.actions = env.action_space.n\r\n",
    "        self.q_table = {}\r\n",
    "\r\n",
    "        # hyperparameters\r\n",
    "        self.episodes = episodes\r\n",
    "        self.gamma = gamma\r\n",
    "        self.decay = decay\r\n",
    "        self.c_eps = eps\r\n",
    "        self.base_eps = eps\r\n",
    "        if decaying_eps:\r\n",
    "            def epsilon():\r\n",
    "                self.c_eps = max((self.episodes - self.step)/self.episodes, 0.01)\r\n",
    "                return self.c_eps\r\n",
    "            self.eps = epsilon\r\n",
    "        else:\r\n",
    "            self.eps = lambda: eps\r\n",
    "        self.decaying_eps = decaying_eps\r\n",
    "        self.alpha = alpha\r\n",
    "        self.last_state = None\r\n",
    "        self.last_action = None\r\n",
    "    \r\n",
    "    def add_new_state(self, state: State):\r\n",
    "        # self.q_table[state] = [1. for _ in range(self.actions)]\r\n",
    "        self.q_table[state] = [0.]*self.actions\r\n",
    "\r\n",
    "    def get_all_q_values(self, state: State) -> List[float]:\r\n",
    "        if state in self.q_table:\r\n",
    "            return self.q_table[state]\r\n",
    "        else:\r\n",
    "            return [0.]*self.actions\r\n",
    "\r\n",
    "    def best_actions(self, state: State) -> Sequence[int]:\r\n",
    "        \"\"\"Returns a list with the best actions for a particular state\r\n",
    "\r\n",
    "        Args:\r\n",
    "            state (State): The state for which we need the best actions\r\n",
    "\r\n",
    "        Returns:\r\n",
    "            Sequence[int]: a list with the best actions\r\n",
    "        \"\"\"\r\n",
    "        if state not in self.q_table:\r\n",
    "            self.add_new_state(state)\r\n",
    "        q_next = np.array(self.q_table[state])\r\n",
    "        best_actions = np.argwhere(q_next == np.max(q_next)).flatten()\r\n",
    "        return best_actions\r\n",
    "\r\n",
    "    def best_action(self, state: State) -> Action:\r\n",
    "        \"\"\"Returns the best action for a state, breaking ties randomly\r\n",
    "\r\n",
    "        Args:\r\n",
    "            state (State): The state in which to extract the best action\r\n",
    "\r\n",
    "        Returns:\r\n",
    "            int: The index of the best action\r\n",
    "        \"\"\"\r\n",
    "        if state not in self.q_table:\r\n",
    "            self.add_new_state(state)\r\n",
    "            # self.q_table[state] = [0 for _ in range(self.actions)]\r\n",
    "        # return np.argmax(self.q_table[state])\r\n",
    "        best_actions = self.best_actions(state)\r\n",
    "\r\n",
    "        return self._random.choice(best_actions)\r\n",
    "    \r\n",
    "    def policy(self, state: State) -> Action:\r\n",
    "        \"\"\"Returns the greedy deterministic policy for the specified state\r\n",
    "\r\n",
    "        Args:\r\n",
    "            state (State): the state for which we want the action\r\n",
    "\r\n",
    "        Raises:\r\n",
    "            InvalidAction: Not sure about this one\r\n",
    "\r\n",
    "        Returns:\r\n",
    "            Any: The greedy action learned for state\r\n",
    "        \"\"\"\r\n",
    "        ## YOUR CODE HERE\r\n",
    "        return self.best_action(state)\r\n",
    "        ## END CODE\r\n",
    "\r\n",
    "    def epsilon_greedy_policy(self, state: State) -> Action:\r\n",
    "        \"\"\"Returns the epsilon-greedy policy\r\n",
    "\r\n",
    "        Args:\r\n",
    "            state (State): The state for which to return the epsilon greedy policy\r\n",
    "\r\n",
    "        Returns:\r\n",
    "            Any: The action to be taken\r\n",
    "        \"\"\"\r\n",
    "        ## YOUR CODE HERE\r\n",
    "        if self._random.random() < self.eps():\r\n",
    "            return self._random.choice(list(range(self.actions)))\r\n",
    "        else:\r\n",
    "            return self.best_action(state)\r\n",
    "        ## END CODE"
   ],
   "outputs": [],
   "metadata": {}
  },
  {
   "cell_type": "code",
   "execution_count": 2,
   "source": [
    "env = gym.make(\"CliffWalking-v0\")\r\n",
    "agent = TabularQLearner(env = env, decaying_eps=False, eps=0.5, rand = Random(42))\r\n",
    "agent.q_table[\"a\"] = [1, 0.5, 4, 0]\r\n",
    "agent.q_table[\"b\"] = [0, 1, 0, 0.5]\r\n",
    "\r\n",
    "action_a = agent.epsilon_greedy_policy(\"a\")\r\n",
    "action_b = agent.epsilon_greedy_policy(\"b\")\r\n",
    "print(f\"Action for a={action_a}\")\r\n",
    "print(f\"Action for b={action_b}\")\r\n",
    "\r\n",
    "assert(action_a == 2)\r\n",
    "assert(action_b == 1)\r\n",
    "\r\n",
    "action_a = agent.epsilon_greedy_policy(\"a\")\r\n",
    "action_b = agent.epsilon_greedy_policy(\"b\")\r\n",
    "\r\n",
    "print(f\"Action for a={action_a}\")\r\n",
    "print(f\"Action for b={action_b}\")\r\n",
    "\r\n",
    "assert(action_a == 0)  # With our random seed, this one should be exploratory\r\n",
    "assert(action_b == 1)"
   ],
   "outputs": [
    {
     "output_type": "stream",
     "name": "stdout",
     "text": [
      "Action for a=2\n",
      "Action for b=1\n",
      "Action for a=0\n",
      "Action for b=1\n"
     ]
    }
   ],
   "metadata": {}
  },
  {
   "cell_type": "markdown",
   "source": [
    "## Q-Learning\n",
    "\n",
    "**Description** \n",
    "\n",
    "Q-Learning is an off policy algorithm that learns the target policy by temporal-difference from a greedy target policy using the following update rule. In our implementation, we will use the $\\epsilon$-greedy policy as the source policy. \n",
    "\n",
    "$$ Q(S,A) \\gets Q(S,A) + \\alpha \\left(R + \\gamma\\max_{a'}Q(S',a') - Q(S,A) \\right) $$ \n",
    "\n",
    "In the cell below, you should implement the following methods (as noted in the source code):\n",
    "- `policy` and `epsilon_greedy_policy` - copy the code you just developed above\n",
    "- `agent_start` - initialize the last state with the initial state given by the environment and choose one initial action\n",
    "- `agent_step` - this should follow the algorithm in Section 6.5 from Sutton and Barto\n",
    "- `agent_end` - one last update at the end of the episode, but using just the old value of Q as the TD-error"
   ],
   "metadata": {}
  },
  {
   "cell_type": "code",
   "execution_count": 3,
   "source": [
    "class TabularQLearner(RLAgent):\r\n",
    "    \"\"\"\r\n",
    "    A simple Tabular Q-Learning agent.\r\n",
    "    \"\"\"\r\n",
    "    def __init__(self,\r\n",
    "                 env: Env,\r\n",
    "                 episodes: int = 500,\r\n",
    "                 decaying_eps: bool = True,\r\n",
    "                 eps: float = 1.0,\r\n",
    "                 alpha: float = 0.5,\r\n",
    "                 decay: float = 0.000002,\r\n",
    "                 gamma: float = 0.9,\r\n",
    "                 rand: Random = Random(),\r\n",
    "                 **kwargs):\r\n",
    "        super().__init__(env, episodes=episodes, decaying_eps=decaying_eps, eps=eps, alpha=alpha, decay=decay, gamma=gamma, rand=rand)\r\n",
    "        self.actions = env.action_space.n\r\n",
    "        self.q_table = {}\r\n",
    "\r\n",
    "        # hyperparameters\r\n",
    "        self.episodes = episodes\r\n",
    "        self.gamma = gamma\r\n",
    "        self.decay = decay\r\n",
    "        self.c_eps = eps\r\n",
    "        self.base_eps = eps\r\n",
    "        if decaying_eps:\r\n",
    "            def epsilon():\r\n",
    "                self.c_eps = max((self.episodes - self.step)/self.episodes, 0.01)\r\n",
    "                return self.c_eps\r\n",
    "            self.eps = epsilon\r\n",
    "        else:\r\n",
    "            self.eps = lambda: eps\r\n",
    "        self.decaying_eps = decaying_eps\r\n",
    "        self.alpha = alpha\r\n",
    "        self.last_state = None\r\n",
    "        self.last_action = None\r\n",
    "\r\n",
    "    def add_new_state(self, state: State):\r\n",
    "        # self.q_table[state] = [1. for _ in range(self.actions)]\r\n",
    "        self.q_table[state] = [0.]*self.actions\r\n",
    "\r\n",
    "    def get_all_q_values(self, state: State) -> List[float]:\r\n",
    "        if state in self.q_table:\r\n",
    "            return self.q_table[state]\r\n",
    "        else:\r\n",
    "            return [0.]*self.actions\r\n",
    "\r\n",
    "    def best_actions(self, state: State) -> Sequence[int]:\r\n",
    "        \"\"\"Returns a list with the best actions for a particular state\r\n",
    "\r\n",
    "        Args:\r\n",
    "            state (State): The state for which we need the best actions\r\n",
    "\r\n",
    "        Returns:\r\n",
    "            Sequence[int]: a list with the best actions\r\n",
    "        \"\"\"\r\n",
    "        if state not in self.q_table:\r\n",
    "            self.add_new_state(state)\r\n",
    "        q_next = np.array(self.q_table[state])\r\n",
    "        best_actions = np.argwhere(q_next == np.max(q_next)).flatten()\r\n",
    "        return best_actions\r\n",
    "\r\n",
    "    def best_action(self, state: State) -> Action:\r\n",
    "        \"\"\"Returns the best action for a state, breaking ties randomly\r\n",
    "\r\n",
    "        Args:\r\n",
    "            state (State): The state in which to extract the best action\r\n",
    "\r\n",
    "        Returns:\r\n",
    "            int: The index of the best action\r\n",
    "        \"\"\"\r\n",
    "        if state not in self.q_table:\r\n",
    "            self.add_new_state(state)\r\n",
    "            # self.q_table[state] = [0 for _ in range(self.actions)]\r\n",
    "        # return np.argmax(self.q_table[state])\r\n",
    "        best_actions = self.best_actions(state)\r\n",
    "\r\n",
    "        return self._random.choice(best_actions)\r\n",
    "    \r\n",
    "    def get_max_q(self, state: State) -> float:\r\n",
    "        if state not in self.q_table:\r\n",
    "            self.add_new_state(state)\r\n",
    "        return np.max(self.q_table[state])\r\n",
    "    \r\n",
    "    def set_q_value(self, state: State, action: Any, q_value: float):\r\n",
    "        if state not in self.q_table:\r\n",
    "            self.add_new_state(state)\r\n",
    "        self.q_table[state][action] = q_value\r\n",
    "\r\n",
    "    def get_q_value(self, state: State, action: Any) -> float:\r\n",
    "        if state not in self.q_table:\r\n",
    "            self.add_new_state(state)\r\n",
    "        return self.q_table[state][action]\r\n",
    "\r\n",
    "    \r\n",
    "    def policy(self, state: State) -> Action:\r\n",
    "        \"\"\"Returns the greedy deterministic policy for the specified state\r\n",
    "\r\n",
    "        Args:\r\n",
    "            state (State): the state for which we want the action\r\n",
    "\r\n",
    "        Raises:\r\n",
    "            InvalidAction: Not sure about this one\r\n",
    "\r\n",
    "        Returns:\r\n",
    "            Any: The greedy action learned for state\r\n",
    "        \"\"\"\r\n",
    "        ## YOUR CODE HERE\r\n",
    "        return self.best_action(state)\r\n",
    "        ## END CODE\r\n",
    "\r\n",
    "    def epsilon_greedy_policy(self, state: State) -> Action:\r\n",
    "        \"\"\"Returns the epsilon-greedy policy\r\n",
    "\r\n",
    "        Args:\r\n",
    "            state (State): The state for which to return the epsilon greedy policy\r\n",
    "\r\n",
    "        Returns:\r\n",
    "            Any: The action to be taken\r\n",
    "        \"\"\"\r\n",
    "        ## YOUR CODE HERE\r\n",
    "        if self._random.random() < self.eps():\r\n",
    "            return self._random.randint(0, self.actions-1)\r\n",
    "        else:\r\n",
    "            return self.policy(state)\r\n",
    "        ## END CODE\r\n",
    "    \r\n",
    "    def agent_start(self, state: State) -> Action:\r\n",
    "        \"\"\"The first method called when the experiment starts,\r\n",
    "        called after the environment starts.\r\n",
    "        Args:\r\n",
    "            state (Numpy array): the state from the\r\n",
    "                environment's env_start function.\r\n",
    "        Returns:\r\n",
    "            (int) the first action the agent takes.\r\n",
    "        \"\"\"\r\n",
    "        ## YOUR CODE HERE\r\n",
    "        action = self.epsilon_greedy_policy(state)\r\n",
    "        self.last_state = state\r\n",
    "        self.last_action = action\r\n",
    "        return action\r\n",
    "        ## END CODE\r\n",
    "\r\n",
    "    def agent_step(self, reward: float, state: State) -> Action:\r\n",
    "        \"\"\"A step taken by the agent.\r\n",
    "\r\n",
    "        Args:\r\n",
    "            reward (float): the reward received for taking the last action taken\r\n",
    "            state (Any): the state from the\r\n",
    "                environment's step based on where the agent ended up after the\r\n",
    "                last step\r\n",
    "        Returns:\r\n",
    "            (int) The action the agent takes given this state.\r\n",
    "        \"\"\"\r\n",
    "        ## YOUR CODE HERE\r\n",
    "        action = self.epsilon_greedy_policy(state)\r\n",
    "\r\n",
    "        # update q-table\r\n",
    "        q_value = self.get_q_value(self.last_state, self.last_action)\r\n",
    "        q_value = (1 - self.alpha) * q_value + self.alpha * (reward + self.gamma * self.get_max_q(state))\r\n",
    "        self.set_q_value(self.last_state, self.last_action, q_value)\r\n",
    "        \r\n",
    "        # update last state and action\r\n",
    "        self.last_state = state\r\n",
    "        self.last_action = action\r\n",
    "        \r\n",
    "        return action\r\n",
    "        ## END CODE\r\n",
    "\r\n",
    "    def agent_end(self, reward: float) -> NoReturn:\r\n",
    "        \"\"\"Called when the agent terminates.\r\n",
    "\r\n",
    "        Args:\r\n",
    "            reward (float): the reward the agent received for entering the\r\n",
    "                terminal state.\r\n",
    "        \"\"\"\r\n",
    "        ## YOUR CODE HERE\r\n",
    "        # update q-table\r\n",
    "        q_value = self.get_q_value(self.last_state, self.last_action)\r\n",
    "        q_value = (1 - self.alpha) * q_value + self.alpha * (reward + self.gamma * self.get_max_q(self.last_state))\r\n",
    "        self.set_q_value(self.last_state, self.last_action, q_value)\r\n",
    "        ## END CODE"
   ],
   "outputs": [],
   "metadata": {}
  },
  {
   "cell_type": "code",
   "execution_count": 4,
   "source": [
    "# Test for Q-Learning\r\n",
    "## Mini test\r\n",
    "nv = gym.make(\"CliffWalking-v0\")\r\n",
    "agent = TabularQLearner(env = env, decaying_eps=False, eps=0.5, rand = Random(42))\r\n",
    "agent.q_table[\"a\"] = [1, 0.5, 4, 0]\r\n",
    "agent.q_table[\"b\"] = [0, 1, 0, 0.5]\r\n",
    "\r\n",
    "action_a = agent.agent_start(\"a\")\r\n",
    "assert(action_a == 2)\r\n",
    "\r\n",
    "action_a = agent.agent_step(-1, \"a\")\r\n",
    "# print(action_a)\r\n",
    "# print(agent.q_table[\"a\"])\r\n",
    "# print(agent.q_table[\"b\"])\r\n",
    "assert(action_a == 2)\r\n",
    "assert(agent.q_table[\"a\"] == [1, 0.5, 3.3, 0])\r\n",
    "assert(agent.q_table[\"b\"] == [0, 1, 0, 0.5])\r\n",
    "\r\n",
    "action_b = agent.agent_step(-2, \"b\")\r\n",
    "# print(action_b)\r\n",
    "# print(agent.q_table[\"a\"])\r\n",
    "# print(agent.q_table[\"b\"])\r\n",
    "assert(action_b == 0)\r\n",
    "assert(np.where(np.isclose(agent.q_table[\"a\"], [1, 0.5, 1.1, 0])))\r\n",
    "assert(agent.q_table[\"b\"] == [0, 1, 0, 0.5])\r\n",
    "\r\n",
    "action_b = agent.agent_step(1, \"b\")\r\n",
    "# print(action_b)\r\n",
    "# print(agent.q_table[\"a\"])\r\n",
    "# print(agent.q_table[\"b\"])\r\n",
    "assert(action_b == 1)\r\n",
    "assert(np.where(np.isclose(agent.q_table[\"a\"], [1, 0.5, 1.1, 0])))\r\n",
    "assert(agent.q_table[\"b\"] == [0.95, 1, 0, 0.5])\r\n"
   ],
   "outputs": [],
   "metadata": {}
  },
  {
   "cell_type": "markdown",
   "source": [
    "## The Cliff Walking Environment\n",
    "We are now ready to learn our first real policy for a non-trivial environment. At the end of training, we print the resulting policy. \n",
    "\n",
    "The environment we use is the Cliff Walking environment from Example 6.6 in Sutton and Barto's book. Refer to page 132 for further details, but we post a summary of the environment below for your convenience.\n",
    "![\"Cliff Sarsa\"](cliff-sarsa.svg)\n",
    "\n",
    "Why does the policy look the way it does (i.e., a bit random at times)?"
   ],
   "metadata": {}
  },
  {
   "cell_type": "code",
   "execution_count": 5,
   "source": [
    "##\r\n",
    "from rl.env_utils import display_cliffwalking_policy\r\n",
    "env = gym.make(\"CliffWalking-v0\")\r\n",
    "q_agent = TabularQLearner(env, episodes=500, gamma=1, eps=0.1, alpha=0.5, decaying_eps=False, rand=Random(42))\r\n",
    "rewards_q = q_agent.learn()\r\n",
    "\r\n",
    "print(f\"Accumulated Reward: {np.sum(rewards_q)}\")\r\n",
    "# assert(np.sum(rewards_q) == -28481)\r\n",
    "display_cliffwalking_policy(q_agent, env)"
   ],
   "outputs": [
    {
     "output_type": "stream",
     "name": "stdout",
     "text": [
      "Training agent: TabularQLearner in environment CliffWalkingEnv\n"
     ]
    },
    {
     "output_type": "stream",
     "name": "stderr",
     "text": [
      "100%|██████████| 500/500 [00:01<00:00, 402.47it/s, States: 38. Goals: 500. Eps: 0.100. MaxR: -15]"
     ]
    },
    {
     "output_type": "stream",
     "name": "stdout",
     "text": [
      "Accumulated Reward: -41238\n"
     ]
    },
    {
     "output_type": "stream",
     "name": "stderr",
     "text": [
      "\n"
     ]
    },
    {
     "output_type": "display_data",
     "data": {
      "text/html": [
       "<table style=\"font-size:300%;border: thick solid;\"><tr><td>&rarr;</td><td>&darr;</td><td>&larr;</td><td>&darr;</td><td>&larr;</td><td>&larr;</td><td>&larr;</td><td>&uarr;</td><td>&darr;</td><td>&uarr;</td><td>&uarr;</td><td>&uarr;</td></tr><tr><td>&darr;</td><td>&darr;</td><td>&rarr;</td><td>&uarr;</td><td>&darr;</td><td>&larr;</td><td>&darr;</td><td>&uarr;</td><td>&uarr;</td><td>&darr;</td><td>&darr;</td><td>&rarr;</td></tr><tr><td>&darr;</td><td>&larr;</td><td>&uarr;</td><td>&uarr;</td><td>&larr;</td><td>&larr;</td><td>&darr;</td><td>&uarr;</td><td>&darr;</td><td>&uarr;</td><td>&darr;</td><td>&uarr;</td></tr><tr><td>&darr;</td><td>&darr;</td><td>&larr;</td><td>&larr;</td><td>&uarr;</td><td>&darr;</td><td>&darr;</td><td>&uarr;</td><td>&larr;</td><td>&uarr;</td><td>&uarr;</td><td>&#x25CE;</td></tr></table>"
      ],
      "text/plain": [
       "<IPython.core.display.HTML object>"
      ]
     },
     "metadata": {}
    }
   ],
   "metadata": {}
  },
  {
   "cell_type": "markdown",
   "source": [
    "## Sarsa\n",
    "\n",
    "Sarsa is an on policy algorithm where the source and target policy are the same. In our implementation, we will use the $\\epsilon$-greedy policy we implemented above.\n",
    "\n",
    "$$ Q(S,A) \\gets Q(S,A) + \\alpha \\left(R + \\gamma Q(S',A') - Q(S,A) \\right) $$ \n",
    "\n",
    "Note that we can implement Sarsa by simply subclassing the `TabularQLearner` class we just implemented. This time, the only modification we need is in the `agent_step` method. "
   ],
   "metadata": {}
  },
  {
   "cell_type": "code",
   "execution_count": 6,
   "source": [
    "class TabularSarsaLearner(TabularQLearner):\r\n",
    "    def agent_step(self, reward: float, state: State) -> Action:\r\n",
    "        \"\"\"A step taken by the agent.\r\n",
    "\r\n",
    "        Args:\r\n",
    "            reward (float): the reward received for taking the last action taken\r\n",
    "            state (Any): the state from the\r\n",
    "                environment's step based on where the agent ended up after the\r\n",
    "                last step\r\n",
    "        Returns:\r\n",
    "            (int) The action the agent takes given this state.\r\n",
    "        \"\"\"\r\n",
    "        ## YOUR CODE HERE\r\n",
    "        # choose action\r\n",
    "        action = self.epsilon_greedy_policy(state)\r\n",
    "\r\n",
    "        # update q-table\r\n",
    "        q_value = self.get_q_value(self.last_state, self.last_action)\r\n",
    "        q_value = (1 - self.alpha) * q_value + self.alpha * (reward + self.gamma * self.get_q_value(state, action))\r\n",
    "        self.set_q_value(self.last_state, self.last_action, q_value)\r\n",
    "\r\n",
    "        # update last state and action\r\n",
    "        self.last_state = state\r\n",
    "        self.last_action = action\r\n",
    "\r\n",
    "        return action\r\n",
    "        ## END CODE"
   ],
   "outputs": [],
   "metadata": {}
  },
  {
   "cell_type": "code",
   "execution_count": 7,
   "source": [
    "# Test for Sarsa\r\n",
    "\r\n",
    "v = gym.make(\"CliffWalking-v0\")\r\n",
    "sarsa_agent = TabularSarsaLearner(env = env, decaying_eps=False, eps=0.5, rand = Random(42))\r\n",
    "sarsa_agent.q_table[\"a\"] = [1, 0.5, 4, 0]\r\n",
    "sarsa_agent.q_table[\"b\"] = [0, 1, 0, 0.5]\r\n",
    "\r\n",
    "action_a = sarsa_agent.agent_start(\"a\")\r\n",
    "assert(action_a == 2)\r\n",
    "\r\n",
    "action_a = sarsa_agent.agent_step(-1, \"a\")\r\n",
    "# print(action_a)\r\n",
    "# print(sarsa_agent.q_table[\"a\"])\r\n",
    "# print(sarsa_agent.q_table[\"b\"])\r\n",
    "assert(action_a == 2)\r\n",
    "assert(sarsa_agent.q_table[\"a\"] == [1, 0.5, 3.3, 0])\r\n",
    "assert(sarsa_agent.q_table[\"b\"] == [0, 1, 0, 0.5])\r\n",
    "\r\n",
    "action_b = sarsa_agent.agent_step(-2, \"b\")\r\n",
    "# print(action_b)\r\n",
    "# print(sarsa_agent.q_table[\"a\"])\r\n",
    "# print(sarsa_agent.q_table[\"b\"])\r\n",
    "assert(action_b == 0)\r\n",
    "assert(np.where(np.isclose(sarsa_agent.q_table[\"a\"], [1, 0.5, 1.1, 0])))\r\n",
    "assert(sarsa_agent.q_table[\"b\"] == [0, 1, 0, 0.5])\r\n",
    "\r\n",
    "action_b = sarsa_agent.agent_step(1, \"b\")\r\n",
    "# print(action_b)\r\n",
    "# print(sarsa_agent.q_table[\"a\"])\r\n",
    "# print(sarsa_agent.q_table[\"b\"])\r\n",
    "assert(action_b == 1)\r\n",
    "assert(np.where(np.isclose(sarsa_agent.q_table[\"a\"], [1, 0.5, 1.1, 0])))\r\n",
    "assert(sarsa_agent.q_table[\"b\"] == [0.95, 1, 0, 0.5])"
   ],
   "outputs": [],
   "metadata": {}
  },
  {
   "cell_type": "markdown",
   "source": [
    "## Expected Sarsa\n",
    "\n",
    "Expected Sarsa is a variation of the Sarsa algorithm where, instead of computing the TD target using the actual samples from a stochastic source policy, we compute the expectation from that policy, much like the update rule in Dynamic Programming, using the following update\n",
    "\n",
    "$$ Q(S,A) \\gets Q(S,A) + \\alpha \\left(R + \\gamma \\sum_{a'}\\pi(a'\\mid S')Q(S',a') - Q(S,A) \\right) $$ \n",
    "\n",
    "Like Sarsa, we can implement Expected Sarsa by simply subclassing the `TabularQLearner` class we just implemented. This time, the only modification we need is in the `agent_step` method. "
   ],
   "metadata": {}
  },
  {
   "cell_type": "code",
   "execution_count": 8,
   "source": [
    "class TabularExpectedSarsaLearner(TabularQLearner):\r\n",
    "    def agent_step(self, reward: float, state: State) -> Action:\r\n",
    "        \"\"\"A step taken by the agent.\r\n",
    "\r\n",
    "        Args:\r\n",
    "            reward (float): the reward received for taking the last action taken\r\n",
    "            state (Any): the state from the\r\n",
    "                environment's step based on where the agent ended up after the\r\n",
    "                last step\r\n",
    "        Returns:\r\n",
    "            (int) The action the agent takes given this state.\r\n",
    "        \"\"\"\r\n",
    "        ## YOUR CODE HERE\r\n",
    "        # choose action\r\n",
    "        action = self.epsilon_greedy_policy(state)\r\n",
    "\r\n",
    "        # update q-table\r\n",
    "        q_value = self.get_q_value(self.last_state, self.last_action)\r\n",
    "        q_value = (1 - self.alpha) * q_value + self.alpha * (reward + self.gamma * self.get_q_value(state, action))\r\n",
    "        self.set_q_value(self.last_state, self.last_action, q_value)\r\n",
    "\r\n",
    "        # update last state and action\r\n",
    "        self.last_state = state\r\n",
    "        self.last_action = action\r\n",
    "\r\n",
    "        return action\r\n",
    "        ## END CODE"
   ],
   "outputs": [],
   "metadata": {}
  },
  {
   "cell_type": "code",
   "execution_count": 9,
   "source": [
    "# Test for Expected Sarsa\r\n",
    "\r\n",
    "v = gym.make(\"CliffWalking-v0\")\r\n",
    "expected_sarsa_agent = TabularExpectedSarsaLearner(env = env, decaying_eps=False, eps=0.5, rand = Random(42))\r\n",
    "expected_sarsa_agent.q_table[\"a\"] = [1, 0.5, 4, 0]\r\n",
    "expected_sarsa_agent.q_table[\"b\"] = [0, 1, 0, 0.5]\r\n",
    "\r\n",
    "action_a = expected_sarsa_agent.agent_start(\"a\")\r\n",
    "assert(action_a == 2)\r\n",
    "\r\n",
    "action_a = expected_sarsa_agent.agent_step(-1, \"a\")\r\n",
    "# print(action_a)\r\n",
    "# print(expected_sarsa_agent.q_table[\"a\"])\r\n",
    "# print(expected_sarsa_agent.q_table[\"b\"])\r\n",
    "assert(action_a == 2)\r\n",
    "assert(np.where(np.isclose(expected_sarsa_agent.q_table[\"a\"], [1, 0.5, 2.7, 0])))\r\n",
    "assert(expected_sarsa_agent.q_table[\"b\"] == [0, 1, 0, 0.5])\r\n",
    "\r\n",
    "action_b = sarsa_agent.agent_step(-2, \"b\")\r\n",
    "# print(action_b)\r\n",
    "# print(expected_sarsa_agent.q_table[\"a\"])\r\n",
    "# print(expected_sarsa_agent.q_table[\"b\"])\r\n",
    "assert(action_b == 1)\r\n",
    "assert(np.where(np.isclose(expected_sarsa_agent.q_table[\"a\"], [1, 0.5, 2.7, 0])))\r\n",
    "assert(expected_sarsa_agent.q_table[\"b\"] == [0, 1, 0, 0.5])\r\n",
    "\r\n",
    "action_b = expected_sarsa_agent.agent_step(1, \"b\")\r\n",
    "# print(action_b)\r\n",
    "# print(agent.q_table[\"a\"])\r\n",
    "# print(agent.q_table[\"b\"])\r\n",
    "assert(action_b == 0)\r\n",
    "assert(np.where(np.isclose(expected_sarsa_agent.q_table[\"a\"], [1, 0.5, 1.1, 0])))\r\n",
    "assert(np.where(np.isclose(expected_sarsa_agent.q_table[\"b\"], [0.95, 1, 0, 0.5])))"
   ],
   "outputs": [],
   "metadata": {}
  },
  {
   "cell_type": "markdown",
   "source": [
    "# Comparing Learning Methods\n",
    "\n",
    "Our final experiment compares the accumulated rewards for each of our TD learning algorithms. This experiment replicates exactly example 6.6 (plus Expected Sarsa) in the book by plotting the cumulative rewards per time step of training each of our algorithms achieves in the Cliff Walking environment. \n",
    "\n",
    "If your implementation is correct, you should see a graph like the one below:\n",
    "![\"Cumulative Rewards\"](figure_example_6_6.svg)."
   ],
   "metadata": {}
  },
  {
   "cell_type": "code",
   "execution_count": 10,
   "source": [
    "import matplotlib.pyplot as plt\r\n",
    "%matplotlib inline\r\n",
    "\r\n",
    "env = gym.make(\"CliffWalking-v0\")\r\n",
    "test_episodes = 500\r\n",
    "runs = 50\r\n",
    "rewards_q = np.zeros(test_episodes)\r\n",
    "rewards_sarsa = np.zeros(test_episodes)\r\n",
    "rewards_expected_sarsa = np.zeros(test_episodes)\r\n",
    "for i in range(runs):\r\n",
    "    q_agent = TabularQLearner(env, episodes=test_episodes, gamma=1, eps=0.1, alpha=0.5, decaying_eps=False)\r\n",
    "    sarsa_agent = TabularSarsaLearner(env, episodes=test_episodes, gamma=1, eps=0.1, alpha=0.5, decaying_eps=False)\r\n",
    "    expected_sarsa_agent = TabularExpectedSarsaLearner(env, episodes=test_episodes, gamma=1, eps=0.1, alpha=0.5, decaying_eps=False)\r\n",
    "    rewards_q += q_agent.learn()\r\n",
    "    rewards_sarsa += sarsa_agent.learn()\r\n",
    "    rewards_expected_sarsa += expected_sarsa_agent.learn()\r\n",
    "\r\n",
    "rewards_q /= runs\r\n",
    "rewards_sarsa /= runs\r\n",
    "rewards_expected_sarsa /= runs\r\n",
    "\r\n",
    "# draw reward curves\r\n",
    "plt.plot(rewards_sarsa, label='Sarsa')\r\n",
    "plt.plot(rewards_q, label='Q-Learning')\r\n",
    "plt.plot(rewards_expected_sarsa, label='Expected Sarsa')\r\n",
    "plt.xlabel('Episodes')\r\n",
    "plt.ylabel('Sum of rewards during episode')\r\n",
    "plt.ylim([-100, 0])\r\n",
    "plt.legend()\r\n",
    "\r\n",
    "plt.show()"
   ],
   "outputs": [
    {
     "output_type": "stream",
     "name": "stdout",
     "text": [
      "Training agent: TabularQLearner in environment CliffWalkingEnv\n"
     ]
    },
    {
     "output_type": "stream",
     "name": "stderr",
     "text": [
      "100%|██████████| 500/500 [00:01<00:00, 404.76it/s, States: 38. Goals: 500. Eps: 0.100. MaxR: -17]\n"
     ]
    },
    {
     "output_type": "stream",
     "name": "stdout",
     "text": [
      "Training agent: TabularSarsaLearner in environment CliffWalkingEnv\n"
     ]
    },
    {
     "output_type": "stream",
     "name": "stderr",
     "text": [
      "100%|██████████| 500/500 [00:00<00:00, 519.18it/s, States: 38. Goals: 500. Eps: 0.100. MaxR: -17]\n"
     ]
    },
    {
     "output_type": "stream",
     "name": "stdout",
     "text": [
      "Training agent: TabularExpectedSarsaLearner in environment CliffWalkingEnv\n"
     ]
    },
    {
     "output_type": "stream",
     "name": "stderr",
     "text": [
      "100%|██████████| 500/500 [00:01<00:00, 497.97it/s, States: 38. Goals: 500. Eps: 0.100. MaxR: -17]\n"
     ]
    },
    {
     "output_type": "stream",
     "name": "stdout",
     "text": [
      "Training agent: TabularQLearner in environment CliffWalkingEnv\n"
     ]
    },
    {
     "output_type": "stream",
     "name": "stderr",
     "text": [
      "100%|██████████| 500/500 [00:01<00:00, 394.94it/s, States: 38. Goals: 500. Eps: 0.100. MaxR: -17]\n"
     ]
    },
    {
     "output_type": "stream",
     "name": "stdout",
     "text": [
      "Training agent: TabularSarsaLearner in environment CliffWalkingEnv\n"
     ]
    },
    {
     "output_type": "stream",
     "name": "stderr",
     "text": [
      "100%|██████████| 500/500 [00:01<00:00, 395.99it/s, States: 38. Goals: 500. Eps: 0.100. MaxR: -15]\n"
     ]
    },
    {
     "output_type": "stream",
     "name": "stdout",
     "text": [
      "Training agent: TabularExpectedSarsaLearner in environment CliffWalkingEnv\n"
     ]
    },
    {
     "output_type": "stream",
     "name": "stderr",
     "text": [
      "100%|██████████| 500/500 [00:01<00:00, 268.67it/s, States: 38. Goals: 500. Eps: 0.100. MaxR: -15]\n"
     ]
    },
    {
     "output_type": "stream",
     "name": "stdout",
     "text": [
      "Training agent: TabularQLearner in environment CliffWalkingEnv\n"
     ]
    },
    {
     "output_type": "stream",
     "name": "stderr",
     "text": [
      "100%|██████████| 500/500 [00:02<00:00, 167.63it/s, States: 38. Goals: 500. Eps: 0.100. MaxR: -19]\n"
     ]
    },
    {
     "output_type": "stream",
     "name": "stdout",
     "text": [
      "Training agent: TabularSarsaLearner in environment CliffWalkingEnv\n"
     ]
    },
    {
     "output_type": "stream",
     "name": "stderr",
     "text": [
      "100%|██████████| 500/500 [00:01<00:00, 358.84it/s, States: 38. Goals: 500. Eps: 0.100. MaxR: -17]\n"
     ]
    },
    {
     "output_type": "stream",
     "name": "stdout",
     "text": [
      "Training agent: TabularExpectedSarsaLearner in environment CliffWalkingEnv\n"
     ]
    },
    {
     "output_type": "stream",
     "name": "stderr",
     "text": [
      "100%|██████████| 500/500 [00:01<00:00, 357.29it/s, States: 38. Goals: 500. Eps: 0.100. MaxR: -17]\n"
     ]
    },
    {
     "output_type": "stream",
     "name": "stdout",
     "text": [
      "Training agent: TabularQLearner in environment CliffWalkingEnv\n"
     ]
    },
    {
     "output_type": "stream",
     "name": "stderr",
     "text": [
      "100%|██████████| 500/500 [00:01<00:00, 330.77it/s, States: 38. Goals: 500. Eps: 0.100. MaxR: -17]\n"
     ]
    },
    {
     "output_type": "stream",
     "name": "stdout",
     "text": [
      "Training agent: TabularSarsaLearner in environment CliffWalkingEnv\n"
     ]
    },
    {
     "output_type": "stream",
     "name": "stderr",
     "text": [
      "100%|██████████| 500/500 [00:01<00:00, 405.00it/s, States: 38. Goals: 500. Eps: 0.100. MaxR: -17]\n"
     ]
    },
    {
     "output_type": "stream",
     "name": "stdout",
     "text": [
      "Training agent: TabularExpectedSarsaLearner in environment CliffWalkingEnv\n"
     ]
    },
    {
     "output_type": "stream",
     "name": "stderr",
     "text": [
      "100%|██████████| 500/500 [00:01<00:00, 443.58it/s, States: 38. Goals: 500. Eps: 0.100. MaxR: -17]\n"
     ]
    },
    {
     "output_type": "stream",
     "name": "stdout",
     "text": [
      "Training agent: TabularQLearner in environment CliffWalkingEnv\n"
     ]
    },
    {
     "output_type": "stream",
     "name": "stderr",
     "text": [
      "100%|██████████| 500/500 [00:02<00:00, 216.85it/s, States: 38. Goals: 500. Eps: 0.100. MaxR: -15]\n"
     ]
    },
    {
     "output_type": "stream",
     "name": "stdout",
     "text": [
      "Training agent: TabularSarsaLearner in environment CliffWalkingEnv\n"
     ]
    },
    {
     "output_type": "stream",
     "name": "stderr",
     "text": [
      "100%|██████████| 500/500 [00:00<00:00, 504.67it/s, States: 38. Goals: 500. Eps: 0.100. MaxR: -17]\n"
     ]
    },
    {
     "output_type": "stream",
     "name": "stdout",
     "text": [
      "Training agent: TabularExpectedSarsaLearner in environment CliffWalkingEnv\n"
     ]
    },
    {
     "output_type": "stream",
     "name": "stderr",
     "text": [
      "100%|██████████| 500/500 [00:01<00:00, 466.21it/s, States: 38. Goals: 500. Eps: 0.100. MaxR: -17]\n"
     ]
    },
    {
     "output_type": "stream",
     "name": "stdout",
     "text": [
      "Training agent: TabularQLearner in environment CliffWalkingEnv\n"
     ]
    },
    {
     "output_type": "stream",
     "name": "stderr",
     "text": [
      "100%|██████████| 500/500 [00:01<00:00, 348.61it/s, States: 38. Goals: 500. Eps: 0.100. MaxR: -15]\n"
     ]
    },
    {
     "output_type": "stream",
     "name": "stdout",
     "text": [
      "Training agent: TabularSarsaLearner in environment CliffWalkingEnv\n"
     ]
    },
    {
     "output_type": "stream",
     "name": "stderr",
     "text": [
      "100%|██████████| 500/500 [00:01<00:00, 491.74it/s, States: 38. Goals: 500. Eps: 0.100. MaxR: -17]\n"
     ]
    },
    {
     "output_type": "stream",
     "name": "stdout",
     "text": [
      "Training agent: TabularExpectedSarsaLearner in environment CliffWalkingEnv\n"
     ]
    },
    {
     "output_type": "stream",
     "name": "stderr",
     "text": [
      "100%|██████████| 500/500 [00:02<00:00, 246.85it/s, States: 38. Goals: 500. Eps: 0.100. MaxR: -17]\n"
     ]
    },
    {
     "output_type": "stream",
     "name": "stdout",
     "text": [
      "Training agent: TabularQLearner in environment CliffWalkingEnv\n"
     ]
    },
    {
     "output_type": "stream",
     "name": "stderr",
     "text": [
      "100%|██████████| 500/500 [00:03<00:00, 162.97it/s, States: 38. Goals: 500. Eps: 0.100. MaxR: -17]\n"
     ]
    },
    {
     "output_type": "stream",
     "name": "stdout",
     "text": [
      "Training agent: TabularSarsaLearner in environment CliffWalkingEnv\n"
     ]
    },
    {
     "output_type": "stream",
     "name": "stderr",
     "text": [
      "100%|██████████| 500/500 [00:01<00:00, 411.13it/s, States: 38. Goals: 500. Eps: 0.100. MaxR: -17]\n"
     ]
    },
    {
     "output_type": "stream",
     "name": "stdout",
     "text": [
      "Training agent: TabularExpectedSarsaLearner in environment CliffWalkingEnv\n"
     ]
    },
    {
     "output_type": "stream",
     "name": "stderr",
     "text": [
      "100%|██████████| 500/500 [00:00<00:00, 507.37it/s, States: 38. Goals: 500. Eps: 0.100. MaxR: -17]\n"
     ]
    },
    {
     "output_type": "stream",
     "name": "stdout",
     "text": [
      "Training agent: TabularQLearner in environment CliffWalkingEnv\n"
     ]
    },
    {
     "output_type": "stream",
     "name": "stderr",
     "text": [
      "100%|██████████| 500/500 [00:01<00:00, 395.11it/s, States: 38. Goals: 500. Eps: 0.100. MaxR: -15]\n"
     ]
    },
    {
     "output_type": "stream",
     "name": "stdout",
     "text": [
      "Training agent: TabularSarsaLearner in environment CliffWalkingEnv\n"
     ]
    },
    {
     "output_type": "stream",
     "name": "stderr",
     "text": [
      "100%|██████████| 500/500 [00:00<00:00, 514.08it/s, States: 38. Goals: 500. Eps: 0.100. MaxR: -17]\n"
     ]
    },
    {
     "output_type": "stream",
     "name": "stdout",
     "text": [
      "Training agent: TabularExpectedSarsaLearner in environment CliffWalkingEnv\n"
     ]
    },
    {
     "output_type": "stream",
     "name": "stderr",
     "text": [
      "100%|██████████| 500/500 [00:00<00:00, 569.13it/s, States: 38. Goals: 500. Eps: 0.100. MaxR: -17]\n"
     ]
    },
    {
     "output_type": "stream",
     "name": "stdout",
     "text": [
      "Training agent: TabularQLearner in environment CliffWalkingEnv\n"
     ]
    },
    {
     "output_type": "stream",
     "name": "stderr",
     "text": [
      "100%|██████████| 500/500 [00:01<00:00, 394.89it/s, States: 38. Goals: 500. Eps: 0.100. MaxR: -17]\n"
     ]
    },
    {
     "output_type": "stream",
     "name": "stdout",
     "text": [
      "Training agent: TabularSarsaLearner in environment CliffWalkingEnv\n"
     ]
    },
    {
     "output_type": "stream",
     "name": "stderr",
     "text": [
      "100%|██████████| 500/500 [00:00<00:00, 542.22it/s, States: 38. Goals: 500. Eps: 0.100. MaxR: -15]\n"
     ]
    },
    {
     "output_type": "stream",
     "name": "stdout",
     "text": [
      "Training agent: TabularExpectedSarsaLearner in environment CliffWalkingEnv\n"
     ]
    },
    {
     "output_type": "stream",
     "name": "stderr",
     "text": [
      "100%|██████████| 500/500 [00:00<00:00, 543.90it/s, States: 38. Goals: 500. Eps: 0.100. MaxR: -17]\n"
     ]
    },
    {
     "output_type": "stream",
     "name": "stdout",
     "text": [
      "Training agent: TabularQLearner in environment CliffWalkingEnv\n"
     ]
    },
    {
     "output_type": "stream",
     "name": "stderr",
     "text": [
      "100%|██████████| 500/500 [00:01<00:00, 447.66it/s, States: 38. Goals: 500. Eps: 0.100. MaxR: -13]\n"
     ]
    },
    {
     "output_type": "stream",
     "name": "stdout",
     "text": [
      "Training agent: TabularSarsaLearner in environment CliffWalkingEnv\n"
     ]
    },
    {
     "output_type": "stream",
     "name": "stderr",
     "text": [
      "100%|██████████| 500/500 [00:00<00:00, 562.40it/s, States: 38. Goals: 500. Eps: 0.100. MaxR: -17]\n"
     ]
    },
    {
     "output_type": "stream",
     "name": "stdout",
     "text": [
      "Training agent: TabularExpectedSarsaLearner in environment CliffWalkingEnv\n"
     ]
    },
    {
     "output_type": "stream",
     "name": "stderr",
     "text": [
      "100%|██████████| 500/500 [00:00<00:00, 523.23it/s, States: 38. Goals: 500. Eps: 0.100. MaxR: -17]\n"
     ]
    },
    {
     "output_type": "stream",
     "name": "stdout",
     "text": [
      "Training agent: TabularQLearner in environment CliffWalkingEnv\n"
     ]
    },
    {
     "output_type": "stream",
     "name": "stderr",
     "text": [
      "100%|██████████| 500/500 [00:01<00:00, 418.34it/s, States: 38. Goals: 500. Eps: 0.100. MaxR: -14]\n"
     ]
    },
    {
     "output_type": "stream",
     "name": "stdout",
     "text": [
      "Training agent: TabularSarsaLearner in environment CliffWalkingEnv\n"
     ]
    },
    {
     "output_type": "stream",
     "name": "stderr",
     "text": [
      "100%|██████████| 500/500 [00:01<00:00, 480.71it/s, States: 38. Goals: 500. Eps: 0.100. MaxR: -15]\n"
     ]
    },
    {
     "output_type": "stream",
     "name": "stdout",
     "text": [
      "Training agent: TabularExpectedSarsaLearner in environment CliffWalkingEnv\n"
     ]
    },
    {
     "output_type": "stream",
     "name": "stderr",
     "text": [
      "100%|██████████| 500/500 [00:00<00:00, 557.16it/s, States: 38. Goals: 500. Eps: 0.100. MaxR: -15]\n"
     ]
    },
    {
     "output_type": "stream",
     "name": "stdout",
     "text": [
      "Training agent: TabularQLearner in environment CliffWalkingEnv\n"
     ]
    },
    {
     "output_type": "stream",
     "name": "stderr",
     "text": [
      "100%|██████████| 500/500 [00:01<00:00, 442.47it/s, States: 38. Goals: 500. Eps: 0.100. MaxR: -13]\n"
     ]
    },
    {
     "output_type": "stream",
     "name": "stdout",
     "text": [
      "Training agent: TabularSarsaLearner in environment CliffWalkingEnv\n"
     ]
    },
    {
     "output_type": "stream",
     "name": "stderr",
     "text": [
      "100%|██████████| 500/500 [00:00<00:00, 541.71it/s, States: 38. Goals: 500. Eps: 0.100. MaxR: -17]\n"
     ]
    },
    {
     "output_type": "stream",
     "name": "stdout",
     "text": [
      "Training agent: TabularExpectedSarsaLearner in environment CliffWalkingEnv\n"
     ]
    },
    {
     "output_type": "stream",
     "name": "stderr",
     "text": [
      "100%|██████████| 500/500 [00:00<00:00, 526.67it/s, States: 38. Goals: 500. Eps: 0.100. MaxR: -17]\n"
     ]
    },
    {
     "output_type": "stream",
     "name": "stdout",
     "text": [
      "Training agent: TabularQLearner in environment CliffWalkingEnv\n"
     ]
    },
    {
     "output_type": "stream",
     "name": "stderr",
     "text": [
      "100%|██████████| 500/500 [00:01<00:00, 407.45it/s, States: 38. Goals: 500. Eps: 0.100. MaxR: -17]\n"
     ]
    },
    {
     "output_type": "stream",
     "name": "stdout",
     "text": [
      "Training agent: TabularSarsaLearner in environment CliffWalkingEnv\n"
     ]
    },
    {
     "output_type": "stream",
     "name": "stderr",
     "text": [
      "100%|██████████| 500/500 [00:01<00:00, 462.70it/s, States: 38. Goals: 500. Eps: 0.100. MaxR: -17]\n"
     ]
    },
    {
     "output_type": "stream",
     "name": "stdout",
     "text": [
      "Training agent: TabularExpectedSarsaLearner in environment CliffWalkingEnv\n"
     ]
    },
    {
     "output_type": "stream",
     "name": "stderr",
     "text": [
      "100%|██████████| 500/500 [00:00<00:00, 568.73it/s, States: 38. Goals: 500. Eps: 0.100. MaxR: -15]\n"
     ]
    },
    {
     "output_type": "stream",
     "name": "stdout",
     "text": [
      "Training agent: TabularQLearner in environment CliffWalkingEnv\n"
     ]
    },
    {
     "output_type": "stream",
     "name": "stderr",
     "text": [
      "100%|██████████| 500/500 [00:01<00:00, 424.85it/s, States: 38. Goals: 500. Eps: 0.100. MaxR: -15]\n"
     ]
    },
    {
     "output_type": "stream",
     "name": "stdout",
     "text": [
      "Training agent: TabularSarsaLearner in environment CliffWalkingEnv\n"
     ]
    },
    {
     "output_type": "stream",
     "name": "stderr",
     "text": [
      "100%|██████████| 500/500 [00:00<00:00, 533.88it/s, States: 38. Goals: 500. Eps: 0.100. MaxR: -17]\n"
     ]
    },
    {
     "output_type": "stream",
     "name": "stdout",
     "text": [
      "Training agent: TabularExpectedSarsaLearner in environment CliffWalkingEnv\n"
     ]
    },
    {
     "output_type": "stream",
     "name": "stderr",
     "text": [
      "100%|██████████| 500/500 [00:00<00:00, 525.53it/s, States: 38. Goals: 500. Eps: 0.100. MaxR: -15]\n"
     ]
    },
    {
     "output_type": "stream",
     "name": "stdout",
     "text": [
      "Training agent: TabularQLearner in environment CliffWalkingEnv\n"
     ]
    },
    {
     "output_type": "stream",
     "name": "stderr",
     "text": [
      "100%|██████████| 500/500 [00:01<00:00, 431.66it/s, States: 38. Goals: 500. Eps: 0.100. MaxR: -15]\n"
     ]
    },
    {
     "output_type": "stream",
     "name": "stdout",
     "text": [
      "Training agent: TabularSarsaLearner in environment CliffWalkingEnv\n"
     ]
    },
    {
     "output_type": "stream",
     "name": "stderr",
     "text": [
      "100%|██████████| 500/500 [00:00<00:00, 524.93it/s, States: 38. Goals: 500. Eps: 0.100. MaxR: -17]\n"
     ]
    },
    {
     "output_type": "stream",
     "name": "stdout",
     "text": [
      "Training agent: TabularExpectedSarsaLearner in environment CliffWalkingEnv\n"
     ]
    },
    {
     "output_type": "stream",
     "name": "stderr",
     "text": [
      "100%|██████████| 500/500 [00:00<00:00, 558.83it/s, States: 38. Goals: 500. Eps: 0.100. MaxR: -17]\n"
     ]
    },
    {
     "output_type": "stream",
     "name": "stdout",
     "text": [
      "Training agent: TabularQLearner in environment CliffWalkingEnv\n"
     ]
    },
    {
     "output_type": "stream",
     "name": "stderr",
     "text": [
      "100%|██████████| 500/500 [00:01<00:00, 416.86it/s, States: 38. Goals: 500. Eps: 0.100. MaxR: -13]\n"
     ]
    },
    {
     "output_type": "stream",
     "name": "stdout",
     "text": [
      "Training agent: TabularSarsaLearner in environment CliffWalkingEnv\n"
     ]
    },
    {
     "output_type": "stream",
     "name": "stderr",
     "text": [
      "100%|██████████| 500/500 [00:01<00:00, 499.96it/s, States: 38. Goals: 500. Eps: 0.100. MaxR: -17]\n"
     ]
    },
    {
     "output_type": "stream",
     "name": "stdout",
     "text": [
      "Training agent: TabularExpectedSarsaLearner in environment CliffWalkingEnv\n"
     ]
    },
    {
     "output_type": "stream",
     "name": "stderr",
     "text": [
      "100%|██████████| 500/500 [00:01<00:00, 492.35it/s, States: 38. Goals: 500. Eps: 0.100. MaxR: -17]\n"
     ]
    },
    {
     "output_type": "stream",
     "name": "stdout",
     "text": [
      "Training agent: TabularQLearner in environment CliffWalkingEnv\n"
     ]
    },
    {
     "output_type": "stream",
     "name": "stderr",
     "text": [
      "100%|██████████| 500/500 [00:01<00:00, 386.98it/s, States: 38. Goals: 500. Eps: 0.100. MaxR: -13]\n"
     ]
    },
    {
     "output_type": "stream",
     "name": "stdout",
     "text": [
      "Training agent: TabularSarsaLearner in environment CliffWalkingEnv\n"
     ]
    },
    {
     "output_type": "stream",
     "name": "stderr",
     "text": [
      "100%|██████████| 500/500 [00:00<00:00, 550.53it/s, States: 38. Goals: 500. Eps: 0.100. MaxR: -16]\n"
     ]
    },
    {
     "output_type": "stream",
     "name": "stdout",
     "text": [
      "Training agent: TabularExpectedSarsaLearner in environment CliffWalkingEnv\n"
     ]
    },
    {
     "output_type": "stream",
     "name": "stderr",
     "text": [
      "100%|██████████| 500/500 [00:00<00:00, 556.16it/s, States: 38. Goals: 500. Eps: 0.100. MaxR: -17]\n"
     ]
    },
    {
     "output_type": "stream",
     "name": "stdout",
     "text": [
      "Training agent: TabularQLearner in environment CliffWalkingEnv\n"
     ]
    },
    {
     "output_type": "stream",
     "name": "stderr",
     "text": [
      "100%|██████████| 500/500 [00:01<00:00, 428.28it/s, States: 38. Goals: 500. Eps: 0.100. MaxR: -15]\n"
     ]
    },
    {
     "output_type": "stream",
     "name": "stdout",
     "text": [
      "Training agent: TabularSarsaLearner in environment CliffWalkingEnv\n"
     ]
    },
    {
     "output_type": "stream",
     "name": "stderr",
     "text": [
      "100%|██████████| 500/500 [00:00<00:00, 514.00it/s, States: 38. Goals: 500. Eps: 0.100. MaxR: -15]\n"
     ]
    },
    {
     "output_type": "stream",
     "name": "stdout",
     "text": [
      "Training agent: TabularExpectedSarsaLearner in environment CliffWalkingEnv\n"
     ]
    },
    {
     "output_type": "stream",
     "name": "stderr",
     "text": [
      "100%|██████████| 500/500 [00:00<00:00, 534.10it/s, States: 38. Goals: 500. Eps: 0.100. MaxR: -17]\n"
     ]
    },
    {
     "output_type": "stream",
     "name": "stdout",
     "text": [
      "Training agent: TabularQLearner in environment CliffWalkingEnv\n"
     ]
    },
    {
     "output_type": "stream",
     "name": "stderr",
     "text": [
      "100%|██████████| 500/500 [00:01<00:00, 382.09it/s, States: 38. Goals: 500. Eps: 0.100. MaxR: -13]\n"
     ]
    },
    {
     "output_type": "stream",
     "name": "stdout",
     "text": [
      "Training agent: TabularSarsaLearner in environment CliffWalkingEnv\n"
     ]
    },
    {
     "output_type": "stream",
     "name": "stderr",
     "text": [
      "100%|██████████| 500/500 [00:00<00:00, 565.11it/s, States: 38. Goals: 500. Eps: 0.100. MaxR: -17]\n"
     ]
    },
    {
     "output_type": "stream",
     "name": "stdout",
     "text": [
      "Training agent: TabularExpectedSarsaLearner in environment CliffWalkingEnv\n"
     ]
    },
    {
     "output_type": "stream",
     "name": "stderr",
     "text": [
      "100%|██████████| 500/500 [00:00<00:00, 552.72it/s, States: 38. Goals: 500. Eps: 0.100. MaxR: -17]\n"
     ]
    },
    {
     "output_type": "stream",
     "name": "stdout",
     "text": [
      "Training agent: TabularQLearner in environment CliffWalkingEnv\n"
     ]
    },
    {
     "output_type": "stream",
     "name": "stderr",
     "text": [
      "100%|██████████| 500/500 [00:01<00:00, 441.66it/s, States: 38. Goals: 500. Eps: 0.100. MaxR: -15]\n"
     ]
    },
    {
     "output_type": "stream",
     "name": "stdout",
     "text": [
      "Training agent: TabularSarsaLearner in environment CliffWalkingEnv\n"
     ]
    },
    {
     "output_type": "stream",
     "name": "stderr",
     "text": [
      "100%|██████████| 500/500 [00:00<00:00, 553.85it/s, States: 38. Goals: 500. Eps: 0.100. MaxR: -17]\n"
     ]
    },
    {
     "output_type": "stream",
     "name": "stdout",
     "text": [
      "Training agent: TabularExpectedSarsaLearner in environment CliffWalkingEnv\n"
     ]
    },
    {
     "output_type": "stream",
     "name": "stderr",
     "text": [
      "100%|██████████| 500/500 [00:00<00:00, 519.81it/s, States: 38. Goals: 500. Eps: 0.100. MaxR: -17]\n"
     ]
    },
    {
     "output_type": "stream",
     "name": "stdout",
     "text": [
      "Training agent: TabularQLearner in environment CliffWalkingEnv\n"
     ]
    },
    {
     "output_type": "stream",
     "name": "stderr",
     "text": [
      "100%|██████████| 500/500 [00:01<00:00, 439.71it/s, States: 38. Goals: 500. Eps: 0.100. MaxR: -13]\n"
     ]
    },
    {
     "output_type": "stream",
     "name": "stdout",
     "text": [
      "Training agent: TabularSarsaLearner in environment CliffWalkingEnv\n"
     ]
    },
    {
     "output_type": "stream",
     "name": "stderr",
     "text": [
      "100%|██████████| 500/500 [00:00<00:00, 561.37it/s, States: 38. Goals: 500. Eps: 0.100. MaxR: -17]\n"
     ]
    },
    {
     "output_type": "stream",
     "name": "stdout",
     "text": [
      "Training agent: TabularExpectedSarsaLearner in environment CliffWalkingEnv\n"
     ]
    },
    {
     "output_type": "stream",
     "name": "stderr",
     "text": [
      "100%|██████████| 500/500 [00:00<00:00, 571.70it/s, States: 38. Goals: 500. Eps: 0.100. MaxR: -15]\n"
     ]
    },
    {
     "output_type": "stream",
     "name": "stdout",
     "text": [
      "Training agent: TabularQLearner in environment CliffWalkingEnv\n"
     ]
    },
    {
     "output_type": "stream",
     "name": "stderr",
     "text": [
      "100%|██████████| 500/500 [00:01<00:00, 419.22it/s, States: 38. Goals: 500. Eps: 0.100. MaxR: -13]\n"
     ]
    },
    {
     "output_type": "stream",
     "name": "stdout",
     "text": [
      "Training agent: TabularSarsaLearner in environment CliffWalkingEnv\n"
     ]
    },
    {
     "output_type": "stream",
     "name": "stderr",
     "text": [
      "100%|██████████| 500/500 [00:00<00:00, 600.00it/s, States: 38. Goals: 500. Eps: 0.100. MaxR: -17]\n"
     ]
    },
    {
     "output_type": "stream",
     "name": "stdout",
     "text": [
      "Training agent: TabularExpectedSarsaLearner in environment CliffWalkingEnv\n"
     ]
    },
    {
     "output_type": "stream",
     "name": "stderr",
     "text": [
      "100%|██████████| 500/500 [00:00<00:00, 541.03it/s, States: 38. Goals: 500. Eps: 0.100. MaxR: -17]\n"
     ]
    },
    {
     "output_type": "stream",
     "name": "stdout",
     "text": [
      "Training agent: TabularQLearner in environment CliffWalkingEnv\n"
     ]
    },
    {
     "output_type": "stream",
     "name": "stderr",
     "text": [
      "100%|██████████| 500/500 [00:01<00:00, 427.85it/s, States: 38. Goals: 500. Eps: 0.100. MaxR: -16]\n"
     ]
    },
    {
     "output_type": "stream",
     "name": "stdout",
     "text": [
      "Training agent: TabularSarsaLearner in environment CliffWalkingEnv\n"
     ]
    },
    {
     "output_type": "stream",
     "name": "stderr",
     "text": [
      "100%|██████████| 500/500 [00:00<00:00, 548.01it/s, States: 38. Goals: 500. Eps: 0.100. MaxR: -17]\n"
     ]
    },
    {
     "output_type": "stream",
     "name": "stdout",
     "text": [
      "Training agent: TabularExpectedSarsaLearner in environment CliffWalkingEnv\n"
     ]
    },
    {
     "output_type": "stream",
     "name": "stderr",
     "text": [
      "100%|██████████| 500/500 [00:00<00:00, 538.58it/s, States: 38. Goals: 500. Eps: 0.100. MaxR: -17]\n"
     ]
    },
    {
     "output_type": "stream",
     "name": "stdout",
     "text": [
      "Training agent: TabularQLearner in environment CliffWalkingEnv\n"
     ]
    },
    {
     "output_type": "stream",
     "name": "stderr",
     "text": [
      "100%|██████████| 500/500 [00:01<00:00, 416.36it/s, States: 38. Goals: 500. Eps: 0.100. MaxR: -13]\n"
     ]
    },
    {
     "output_type": "stream",
     "name": "stdout",
     "text": [
      "Training agent: TabularSarsaLearner in environment CliffWalkingEnv\n"
     ]
    },
    {
     "output_type": "stream",
     "name": "stderr",
     "text": [
      "100%|██████████| 500/500 [00:00<00:00, 539.33it/s, States: 38. Goals: 500. Eps: 0.100. MaxR: -15]\n"
     ]
    },
    {
     "output_type": "stream",
     "name": "stdout",
     "text": [
      "Training agent: TabularExpectedSarsaLearner in environment CliffWalkingEnv\n"
     ]
    },
    {
     "output_type": "stream",
     "name": "stderr",
     "text": [
      "100%|██████████| 500/500 [00:00<00:00, 539.27it/s, States: 38. Goals: 500. Eps: 0.100. MaxR: -17]\n"
     ]
    },
    {
     "output_type": "stream",
     "name": "stdout",
     "text": [
      "Training agent: TabularQLearner in environment CliffWalkingEnv\n"
     ]
    },
    {
     "output_type": "stream",
     "name": "stderr",
     "text": [
      "100%|██████████| 500/500 [00:01<00:00, 401.34it/s, States: 38. Goals: 500. Eps: 0.100. MaxR: -15]\n"
     ]
    },
    {
     "output_type": "stream",
     "name": "stdout",
     "text": [
      "Training agent: TabularSarsaLearner in environment CliffWalkingEnv\n"
     ]
    },
    {
     "output_type": "stream",
     "name": "stderr",
     "text": [
      "100%|██████████| 500/500 [00:00<00:00, 505.34it/s, States: 38. Goals: 500. Eps: 0.100. MaxR: -17]\n"
     ]
    },
    {
     "output_type": "stream",
     "name": "stdout",
     "text": [
      "Training agent: TabularExpectedSarsaLearner in environment CliffWalkingEnv\n"
     ]
    },
    {
     "output_type": "stream",
     "name": "stderr",
     "text": [
      "100%|██████████| 500/500 [00:00<00:00, 512.21it/s, States: 38. Goals: 500. Eps: 0.100. MaxR: -17]\n"
     ]
    },
    {
     "output_type": "stream",
     "name": "stdout",
     "text": [
      "Training agent: TabularQLearner in environment CliffWalkingEnv\n"
     ]
    },
    {
     "output_type": "stream",
     "name": "stderr",
     "text": [
      "100%|██████████| 500/500 [00:01<00:00, 362.55it/s, States: 38. Goals: 500. Eps: 0.100. MaxR: -13]\n"
     ]
    },
    {
     "output_type": "stream",
     "name": "stdout",
     "text": [
      "Training agent: TabularSarsaLearner in environment CliffWalkingEnv\n"
     ]
    },
    {
     "output_type": "stream",
     "name": "stderr",
     "text": [
      "100%|██████████| 500/500 [00:01<00:00, 486.58it/s, States: 38. Goals: 500. Eps: 0.100. MaxR: -17]\n"
     ]
    },
    {
     "output_type": "stream",
     "name": "stdout",
     "text": [
      "Training agent: TabularExpectedSarsaLearner in environment CliffWalkingEnv\n"
     ]
    },
    {
     "output_type": "stream",
     "name": "stderr",
     "text": [
      "100%|██████████| 500/500 [00:00<00:00, 530.65it/s, States: 38. Goals: 500. Eps: 0.100. MaxR: -17]\n"
     ]
    },
    {
     "output_type": "stream",
     "name": "stdout",
     "text": [
      "Training agent: TabularQLearner in environment CliffWalkingEnv\n"
     ]
    },
    {
     "output_type": "stream",
     "name": "stderr",
     "text": [
      "100%|██████████| 500/500 [00:01<00:00, 410.83it/s, States: 38. Goals: 500. Eps: 0.100. MaxR: -15]\n"
     ]
    },
    {
     "output_type": "stream",
     "name": "stdout",
     "text": [
      "Training agent: TabularSarsaLearner in environment CliffWalkingEnv\n"
     ]
    },
    {
     "output_type": "stream",
     "name": "stderr",
     "text": [
      "100%|██████████| 500/500 [00:00<00:00, 544.37it/s, States: 38. Goals: 500. Eps: 0.100. MaxR: -17]\n"
     ]
    },
    {
     "output_type": "stream",
     "name": "stdout",
     "text": [
      "Training agent: TabularExpectedSarsaLearner in environment CliffWalkingEnv\n"
     ]
    },
    {
     "output_type": "stream",
     "name": "stderr",
     "text": [
      "100%|██████████| 500/500 [00:00<00:00, 571.09it/s, States: 38. Goals: 500. Eps: 0.100. MaxR: -17]\n"
     ]
    },
    {
     "output_type": "stream",
     "name": "stdout",
     "text": [
      "Training agent: TabularQLearner in environment CliffWalkingEnv\n"
     ]
    },
    {
     "output_type": "stream",
     "name": "stderr",
     "text": [
      "100%|██████████| 500/500 [00:01<00:00, 446.74it/s, States: 38. Goals: 500. Eps: 0.100. MaxR: -15]\n"
     ]
    },
    {
     "output_type": "stream",
     "name": "stdout",
     "text": [
      "Training agent: TabularSarsaLearner in environment CliffWalkingEnv\n"
     ]
    },
    {
     "output_type": "stream",
     "name": "stderr",
     "text": [
      "100%|██████████| 500/500 [00:00<00:00, 551.92it/s, States: 38. Goals: 500. Eps: 0.100. MaxR: -17]\n"
     ]
    },
    {
     "output_type": "stream",
     "name": "stdout",
     "text": [
      "Training agent: TabularExpectedSarsaLearner in environment CliffWalkingEnv\n"
     ]
    },
    {
     "output_type": "stream",
     "name": "stderr",
     "text": [
      "100%|██████████| 500/500 [00:00<00:00, 555.54it/s, States: 38. Goals: 500. Eps: 0.100. MaxR: -15]\n"
     ]
    },
    {
     "output_type": "stream",
     "name": "stdout",
     "text": [
      "Training agent: TabularQLearner in environment CliffWalkingEnv\n"
     ]
    },
    {
     "output_type": "stream",
     "name": "stderr",
     "text": [
      "100%|██████████| 500/500 [00:01<00:00, 429.54it/s, States: 38. Goals: 500. Eps: 0.100. MaxR: -15]\n"
     ]
    },
    {
     "output_type": "stream",
     "name": "stdout",
     "text": [
      "Training agent: TabularSarsaLearner in environment CliffWalkingEnv\n"
     ]
    },
    {
     "output_type": "stream",
     "name": "stderr",
     "text": [
      "100%|██████████| 500/500 [00:00<00:00, 513.94it/s, States: 38. Goals: 500. Eps: 0.100. MaxR: -17]\n"
     ]
    },
    {
     "output_type": "stream",
     "name": "stdout",
     "text": [
      "Training agent: TabularExpectedSarsaLearner in environment CliffWalkingEnv\n"
     ]
    },
    {
     "output_type": "stream",
     "name": "stderr",
     "text": [
      "100%|██████████| 500/500 [00:00<00:00, 567.55it/s, States: 38. Goals: 500. Eps: 0.100. MaxR: -17]\n"
     ]
    },
    {
     "output_type": "stream",
     "name": "stdout",
     "text": [
      "Training agent: TabularQLearner in environment CliffWalkingEnv\n"
     ]
    },
    {
     "output_type": "stream",
     "name": "stderr",
     "text": [
      "100%|██████████| 500/500 [00:01<00:00, 414.41it/s, States: 38. Goals: 500. Eps: 0.100. MaxR: -15]\n"
     ]
    },
    {
     "output_type": "stream",
     "name": "stdout",
     "text": [
      "Training agent: TabularSarsaLearner in environment CliffWalkingEnv\n"
     ]
    },
    {
     "output_type": "stream",
     "name": "stderr",
     "text": [
      "100%|██████████| 500/500 [00:00<00:00, 559.99it/s, States: 38. Goals: 500. Eps: 0.100. MaxR: -17]\n"
     ]
    },
    {
     "output_type": "stream",
     "name": "stdout",
     "text": [
      "Training agent: TabularExpectedSarsaLearner in environment CliffWalkingEnv\n"
     ]
    },
    {
     "output_type": "stream",
     "name": "stderr",
     "text": [
      "100%|██████████| 500/500 [00:00<00:00, 545.14it/s, States: 38. Goals: 500. Eps: 0.100. MaxR: -17]\n"
     ]
    },
    {
     "output_type": "stream",
     "name": "stdout",
     "text": [
      "Training agent: TabularQLearner in environment CliffWalkingEnv\n"
     ]
    },
    {
     "output_type": "stream",
     "name": "stderr",
     "text": [
      "100%|██████████| 500/500 [00:01<00:00, 422.90it/s, States: 38. Goals: 500. Eps: 0.100. MaxR: -17]\n"
     ]
    },
    {
     "output_type": "stream",
     "name": "stdout",
     "text": [
      "Training agent: TabularSarsaLearner in environment CliffWalkingEnv\n"
     ]
    },
    {
     "output_type": "stream",
     "name": "stderr",
     "text": [
      "100%|██████████| 500/500 [00:00<00:00, 581.15it/s, States: 38. Goals: 500. Eps: 0.100. MaxR: -17]\n"
     ]
    },
    {
     "output_type": "stream",
     "name": "stdout",
     "text": [
      "Training agent: TabularExpectedSarsaLearner in environment CliffWalkingEnv\n"
     ]
    },
    {
     "output_type": "stream",
     "name": "stderr",
     "text": [
      "100%|██████████| 500/500 [00:00<00:00, 545.20it/s, States: 38. Goals: 500. Eps: 0.100. MaxR: -17]\n"
     ]
    },
    {
     "output_type": "stream",
     "name": "stdout",
     "text": [
      "Training agent: TabularQLearner in environment CliffWalkingEnv\n"
     ]
    },
    {
     "output_type": "stream",
     "name": "stderr",
     "text": [
      "100%|██████████| 500/500 [00:01<00:00, 429.94it/s, States: 38. Goals: 500. Eps: 0.100. MaxR: -15]\n"
     ]
    },
    {
     "output_type": "stream",
     "name": "stdout",
     "text": [
      "Training agent: TabularSarsaLearner in environment CliffWalkingEnv\n"
     ]
    },
    {
     "output_type": "stream",
     "name": "stderr",
     "text": [
      "100%|██████████| 500/500 [00:00<00:00, 530.15it/s, States: 38. Goals: 500. Eps: 0.100. MaxR: -17]\n"
     ]
    },
    {
     "output_type": "stream",
     "name": "stdout",
     "text": [
      "Training agent: TabularExpectedSarsaLearner in environment CliffWalkingEnv\n"
     ]
    },
    {
     "output_type": "stream",
     "name": "stderr",
     "text": [
      "100%|██████████| 500/500 [00:01<00:00, 289.35it/s, States: 38. Goals: 500. Eps: 0.100. MaxR: -16]\n"
     ]
    },
    {
     "output_type": "stream",
     "name": "stdout",
     "text": [
      "Training agent: TabularQLearner in environment CliffWalkingEnv\n"
     ]
    },
    {
     "output_type": "stream",
     "name": "stderr",
     "text": [
      "100%|██████████| 500/500 [00:01<00:00, 377.46it/s, States: 38. Goals: 500. Eps: 0.100. MaxR: -15]\n"
     ]
    },
    {
     "output_type": "stream",
     "name": "stdout",
     "text": [
      "Training agent: TabularSarsaLearner in environment CliffWalkingEnv\n"
     ]
    },
    {
     "output_type": "stream",
     "name": "stderr",
     "text": [
      "100%|██████████| 500/500 [00:00<00:00, 541.08it/s, States: 38. Goals: 500. Eps: 0.100. MaxR: -17]\n"
     ]
    },
    {
     "output_type": "stream",
     "name": "stdout",
     "text": [
      "Training agent: TabularExpectedSarsaLearner in environment CliffWalkingEnv\n"
     ]
    },
    {
     "output_type": "stream",
     "name": "stderr",
     "text": [
      "100%|██████████| 500/500 [00:01<00:00, 452.07it/s, States: 38. Goals: 500. Eps: 0.100. MaxR: -17]\n"
     ]
    },
    {
     "output_type": "stream",
     "name": "stdout",
     "text": [
      "Training agent: TabularQLearner in environment CliffWalkingEnv\n"
     ]
    },
    {
     "output_type": "stream",
     "name": "stderr",
     "text": [
      "100%|██████████| 500/500 [00:01<00:00, 446.71it/s, States: 38. Goals: 500. Eps: 0.100. MaxR: -15]\n"
     ]
    },
    {
     "output_type": "stream",
     "name": "stdout",
     "text": [
      "Training agent: TabularSarsaLearner in environment CliffWalkingEnv\n"
     ]
    },
    {
     "output_type": "stream",
     "name": "stderr",
     "text": [
      "100%|██████████| 500/500 [00:00<00:00, 543.18it/s, States: 38. Goals: 500. Eps: 0.100. MaxR: -17]\n"
     ]
    },
    {
     "output_type": "stream",
     "name": "stdout",
     "text": [
      "Training agent: TabularExpectedSarsaLearner in environment CliffWalkingEnv\n"
     ]
    },
    {
     "output_type": "stream",
     "name": "stderr",
     "text": [
      "100%|██████████| 500/500 [00:00<00:00, 572.75it/s, States: 38. Goals: 500. Eps: 0.100. MaxR: -17]\n"
     ]
    },
    {
     "output_type": "stream",
     "name": "stdout",
     "text": [
      "Training agent: TabularQLearner in environment CliffWalkingEnv\n"
     ]
    },
    {
     "output_type": "stream",
     "name": "stderr",
     "text": [
      "100%|██████████| 500/500 [00:01<00:00, 430.47it/s, States: 38. Goals: 500. Eps: 0.100. MaxR: -15]\n"
     ]
    },
    {
     "output_type": "stream",
     "name": "stdout",
     "text": [
      "Training agent: TabularSarsaLearner in environment CliffWalkingEnv\n"
     ]
    },
    {
     "output_type": "stream",
     "name": "stderr",
     "text": [
      "100%|██████████| 500/500 [00:00<00:00, 578.23it/s, States: 38. Goals: 500. Eps: 0.100. MaxR: -17]\n"
     ]
    },
    {
     "output_type": "stream",
     "name": "stdout",
     "text": [
      "Training agent: TabularExpectedSarsaLearner in environment CliffWalkingEnv\n"
     ]
    },
    {
     "output_type": "stream",
     "name": "stderr",
     "text": [
      "100%|██████████| 500/500 [00:00<00:00, 533.19it/s, States: 38. Goals: 500. Eps: 0.100. MaxR: -17]\n"
     ]
    },
    {
     "output_type": "stream",
     "name": "stdout",
     "text": [
      "Training agent: TabularQLearner in environment CliffWalkingEnv\n"
     ]
    },
    {
     "output_type": "stream",
     "name": "stderr",
     "text": [
      "100%|██████████| 500/500 [00:01<00:00, 414.65it/s, States: 38. Goals: 500. Eps: 0.100. MaxR: -17]\n"
     ]
    },
    {
     "output_type": "stream",
     "name": "stdout",
     "text": [
      "Training agent: TabularSarsaLearner in environment CliffWalkingEnv\n"
     ]
    },
    {
     "output_type": "stream",
     "name": "stderr",
     "text": [
      "100%|██████████| 500/500 [00:00<00:00, 507.60it/s, States: 38. Goals: 500. Eps: 0.100. MaxR: -17]\n"
     ]
    },
    {
     "output_type": "stream",
     "name": "stdout",
     "text": [
      "Training agent: TabularExpectedSarsaLearner in environment CliffWalkingEnv\n"
     ]
    },
    {
     "output_type": "stream",
     "name": "stderr",
     "text": [
      "100%|██████████| 500/500 [00:00<00:00, 553.28it/s, States: 38. Goals: 500. Eps: 0.100. MaxR: -17]\n"
     ]
    },
    {
     "output_type": "stream",
     "name": "stdout",
     "text": [
      "Training agent: TabularQLearner in environment CliffWalkingEnv\n"
     ]
    },
    {
     "output_type": "stream",
     "name": "stderr",
     "text": [
      "100%|██████████| 500/500 [00:01<00:00, 430.88it/s, States: 38. Goals: 500. Eps: 0.100. MaxR: -15]\n"
     ]
    },
    {
     "output_type": "stream",
     "name": "stdout",
     "text": [
      "Training agent: TabularSarsaLearner in environment CliffWalkingEnv\n"
     ]
    },
    {
     "output_type": "stream",
     "name": "stderr",
     "text": [
      "100%|██████████| 500/500 [00:00<00:00, 551.49it/s, States: 38. Goals: 500. Eps: 0.100. MaxR: -17]\n"
     ]
    },
    {
     "output_type": "stream",
     "name": "stdout",
     "text": [
      "Training agent: TabularExpectedSarsaLearner in environment CliffWalkingEnv\n"
     ]
    },
    {
     "output_type": "stream",
     "name": "stderr",
     "text": [
      "100%|██████████| 500/500 [00:00<00:00, 565.47it/s, States: 38. Goals: 500. Eps: 0.100. MaxR: -17]\n"
     ]
    },
    {
     "output_type": "stream",
     "name": "stdout",
     "text": [
      "Training agent: TabularQLearner in environment CliffWalkingEnv\n"
     ]
    },
    {
     "output_type": "stream",
     "name": "stderr",
     "text": [
      "100%|██████████| 500/500 [00:01<00:00, 434.24it/s, States: 38. Goals: 500. Eps: 0.100. MaxR: -15]\n"
     ]
    },
    {
     "output_type": "stream",
     "name": "stdout",
     "text": [
      "Training agent: TabularSarsaLearner in environment CliffWalkingEnv\n"
     ]
    },
    {
     "output_type": "stream",
     "name": "stderr",
     "text": [
      "100%|██████████| 500/500 [00:00<00:00, 523.69it/s, States: 38. Goals: 500. Eps: 0.100. MaxR: -17]\n"
     ]
    },
    {
     "output_type": "stream",
     "name": "stdout",
     "text": [
      "Training agent: TabularExpectedSarsaLearner in environment CliffWalkingEnv\n"
     ]
    },
    {
     "output_type": "stream",
     "name": "stderr",
     "text": [
      "100%|██████████| 500/500 [00:00<00:00, 527.91it/s, States: 38. Goals: 500. Eps: 0.100. MaxR: -17]\n"
     ]
    },
    {
     "output_type": "stream",
     "name": "stdout",
     "text": [
      "Training agent: TabularQLearner in environment CliffWalkingEnv\n"
     ]
    },
    {
     "output_type": "stream",
     "name": "stderr",
     "text": [
      "100%|██████████| 500/500 [00:01<00:00, 432.72it/s, States: 38. Goals: 500. Eps: 0.100. MaxR: -13]\n"
     ]
    },
    {
     "output_type": "stream",
     "name": "stdout",
     "text": [
      "Training agent: TabularSarsaLearner in environment CliffWalkingEnv\n"
     ]
    },
    {
     "output_type": "stream",
     "name": "stderr",
     "text": [
      "100%|██████████| 500/500 [00:00<00:00, 552.91it/s, States: 38. Goals: 500. Eps: 0.100. MaxR: -15]\n"
     ]
    },
    {
     "output_type": "stream",
     "name": "stdout",
     "text": [
      "Training agent: TabularExpectedSarsaLearner in environment CliffWalkingEnv\n"
     ]
    },
    {
     "output_type": "stream",
     "name": "stderr",
     "text": [
      "100%|██████████| 500/500 [00:00<00:00, 505.34it/s, States: 38. Goals: 500. Eps: 0.100. MaxR: -15]\n"
     ]
    },
    {
     "output_type": "stream",
     "name": "stdout",
     "text": [
      "Training agent: TabularQLearner in environment CliffWalkingEnv\n"
     ]
    },
    {
     "output_type": "stream",
     "name": "stderr",
     "text": [
      "100%|██████████| 500/500 [00:01<00:00, 408.13it/s, States: 38. Goals: 500. Eps: 0.100. MaxR: -17]\n"
     ]
    },
    {
     "output_type": "stream",
     "name": "stdout",
     "text": [
      "Training agent: TabularSarsaLearner in environment CliffWalkingEnv\n"
     ]
    },
    {
     "output_type": "stream",
     "name": "stderr",
     "text": [
      "100%|██████████| 500/500 [00:00<00:00, 530.75it/s, States: 38. Goals: 500. Eps: 0.100. MaxR: -15]\n"
     ]
    },
    {
     "output_type": "stream",
     "name": "stdout",
     "text": [
      "Training agent: TabularExpectedSarsaLearner in environment CliffWalkingEnv\n"
     ]
    },
    {
     "output_type": "stream",
     "name": "stderr",
     "text": [
      "100%|██████████| 500/500 [00:00<00:00, 535.50it/s, States: 38. Goals: 500. Eps: 0.100. MaxR: -17]\n"
     ]
    },
    {
     "output_type": "stream",
     "name": "stdout",
     "text": [
      "Training agent: TabularQLearner in environment CliffWalkingEnv\n"
     ]
    },
    {
     "output_type": "stream",
     "name": "stderr",
     "text": [
      "100%|██████████| 500/500 [00:01<00:00, 430.46it/s, States: 38. Goals: 500. Eps: 0.100. MaxR: -13]\n"
     ]
    },
    {
     "output_type": "stream",
     "name": "stdout",
     "text": [
      "Training agent: TabularSarsaLearner in environment CliffWalkingEnv\n"
     ]
    },
    {
     "output_type": "stream",
     "name": "stderr",
     "text": [
      "100%|██████████| 500/500 [00:00<00:00, 557.82it/s, States: 38. Goals: 500. Eps: 0.100. MaxR: -15]\n"
     ]
    },
    {
     "output_type": "stream",
     "name": "stdout",
     "text": [
      "Training agent: TabularExpectedSarsaLearner in environment CliffWalkingEnv\n"
     ]
    },
    {
     "output_type": "stream",
     "name": "stderr",
     "text": [
      "100%|██████████| 500/500 [00:00<00:00, 554.42it/s, States: 38. Goals: 500. Eps: 0.100. MaxR: -19]\n"
     ]
    },
    {
     "output_type": "stream",
     "name": "stdout",
     "text": [
      "Training agent: TabularQLearner in environment CliffWalkingEnv\n"
     ]
    },
    {
     "output_type": "stream",
     "name": "stderr",
     "text": [
      "100%|██████████| 500/500 [00:01<00:00, 384.85it/s, States: 38. Goals: 500. Eps: 0.100. MaxR: -13]\n"
     ]
    },
    {
     "output_type": "stream",
     "name": "stdout",
     "text": [
      "Training agent: TabularSarsaLearner in environment CliffWalkingEnv\n"
     ]
    },
    {
     "output_type": "stream",
     "name": "stderr",
     "text": [
      "100%|██████████| 500/500 [00:00<00:00, 509.23it/s, States: 38. Goals: 500. Eps: 0.100. MaxR: -15]\n"
     ]
    },
    {
     "output_type": "stream",
     "name": "stdout",
     "text": [
      "Training agent: TabularExpectedSarsaLearner in environment CliffWalkingEnv\n"
     ]
    },
    {
     "output_type": "stream",
     "name": "stderr",
     "text": [
      "100%|██████████| 500/500 [00:00<00:00, 523.42it/s, States: 38. Goals: 500. Eps: 0.100. MaxR: -17]\n"
     ]
    },
    {
     "output_type": "stream",
     "name": "stdout",
     "text": [
      "Training agent: TabularQLearner in environment CliffWalkingEnv\n"
     ]
    },
    {
     "output_type": "stream",
     "name": "stderr",
     "text": [
      "100%|██████████| 500/500 [00:01<00:00, 423.52it/s, States: 38. Goals: 500. Eps: 0.100. MaxR: -13]\n"
     ]
    },
    {
     "output_type": "stream",
     "name": "stdout",
     "text": [
      "Training agent: TabularSarsaLearner in environment CliffWalkingEnv\n"
     ]
    },
    {
     "output_type": "stream",
     "name": "stderr",
     "text": [
      "100%|██████████| 500/500 [00:00<00:00, 525.46it/s, States: 38. Goals: 500. Eps: 0.100. MaxR: -17]\n"
     ]
    },
    {
     "output_type": "stream",
     "name": "stdout",
     "text": [
      "Training agent: TabularExpectedSarsaLearner in environment CliffWalkingEnv\n"
     ]
    },
    {
     "output_type": "stream",
     "name": "stderr",
     "text": [
      "100%|██████████| 500/500 [00:00<00:00, 552.53it/s, States: 38. Goals: 500. Eps: 0.100. MaxR: -17]\n"
     ]
    },
    {
     "output_type": "stream",
     "name": "stdout",
     "text": [
      "Training agent: TabularQLearner in environment CliffWalkingEnv\n"
     ]
    },
    {
     "output_type": "stream",
     "name": "stderr",
     "text": [
      "100%|██████████| 500/500 [00:01<00:00, 419.30it/s, States: 38. Goals: 500. Eps: 0.100. MaxR: -15]\n"
     ]
    },
    {
     "output_type": "stream",
     "name": "stdout",
     "text": [
      "Training agent: TabularSarsaLearner in environment CliffWalkingEnv\n"
     ]
    },
    {
     "output_type": "stream",
     "name": "stderr",
     "text": [
      "100%|██████████| 500/500 [00:00<00:00, 560.19it/s, States: 38. Goals: 500. Eps: 0.100. MaxR: -17]\n"
     ]
    },
    {
     "output_type": "stream",
     "name": "stdout",
     "text": [
      "Training agent: TabularExpectedSarsaLearner in environment CliffWalkingEnv\n"
     ]
    },
    {
     "output_type": "stream",
     "name": "stderr",
     "text": [
      "100%|██████████| 500/500 [00:00<00:00, 575.04it/s, States: 38. Goals: 500. Eps: 0.100. MaxR: -17]\n"
     ]
    },
    {
     "output_type": "stream",
     "name": "stdout",
     "text": [
      "Training agent: TabularQLearner in environment CliffWalkingEnv\n"
     ]
    },
    {
     "output_type": "stream",
     "name": "stderr",
     "text": [
      "100%|██████████| 500/500 [00:01<00:00, 411.30it/s, States: 38. Goals: 500. Eps: 0.100. MaxR: -14]\n"
     ]
    },
    {
     "output_type": "stream",
     "name": "stdout",
     "text": [
      "Training agent: TabularSarsaLearner in environment CliffWalkingEnv\n"
     ]
    },
    {
     "output_type": "stream",
     "name": "stderr",
     "text": [
      "100%|██████████| 500/500 [00:00<00:00, 528.02it/s, States: 38. Goals: 500. Eps: 0.100. MaxR: -17]\n"
     ]
    },
    {
     "output_type": "stream",
     "name": "stdout",
     "text": [
      "Training agent: TabularExpectedSarsaLearner in environment CliffWalkingEnv\n"
     ]
    },
    {
     "output_type": "stream",
     "name": "stderr",
     "text": [
      "100%|██████████| 500/500 [00:00<00:00, 544.43it/s, States: 38. Goals: 500. Eps: 0.100. MaxR: -17]\n"
     ]
    },
    {
     "output_type": "stream",
     "name": "stdout",
     "text": [
      "Training agent: TabularQLearner in environment CliffWalkingEnv\n"
     ]
    },
    {
     "output_type": "stream",
     "name": "stderr",
     "text": [
      "100%|██████████| 500/500 [00:01<00:00, 427.64it/s, States: 38. Goals: 500. Eps: 0.100. MaxR: -13]\n"
     ]
    },
    {
     "output_type": "stream",
     "name": "stdout",
     "text": [
      "Training agent: TabularSarsaLearner in environment CliffWalkingEnv\n"
     ]
    },
    {
     "output_type": "stream",
     "name": "stderr",
     "text": [
      "100%|██████████| 500/500 [00:01<00:00, 478.30it/s, States: 38. Goals: 500. Eps: 0.100. MaxR: -17]\n"
     ]
    },
    {
     "output_type": "stream",
     "name": "stdout",
     "text": [
      "Training agent: TabularExpectedSarsaLearner in environment CliffWalkingEnv\n"
     ]
    },
    {
     "output_type": "stream",
     "name": "stderr",
     "text": [
      "100%|██████████| 500/500 [00:00<00:00, 528.90it/s, States: 38. Goals: 500. Eps: 0.100. MaxR: -15]\n"
     ]
    },
    {
     "output_type": "stream",
     "name": "stdout",
     "text": [
      "Training agent: TabularQLearner in environment CliffWalkingEnv\n"
     ]
    },
    {
     "output_type": "stream",
     "name": "stderr",
     "text": [
      "100%|██████████| 500/500 [00:01<00:00, 336.85it/s, States: 38. Goals: 500. Eps: 0.100. MaxR: -13]\n"
     ]
    },
    {
     "output_type": "stream",
     "name": "stdout",
     "text": [
      "Training agent: TabularSarsaLearner in environment CliffWalkingEnv\n"
     ]
    },
    {
     "output_type": "stream",
     "name": "stderr",
     "text": [
      "100%|██████████| 500/500 [00:01<00:00, 371.93it/s, States: 38. Goals: 500. Eps: 0.100. MaxR: -17]\n"
     ]
    },
    {
     "output_type": "stream",
     "name": "stdout",
     "text": [
      "Training agent: TabularExpectedSarsaLearner in environment CliffWalkingEnv\n"
     ]
    },
    {
     "output_type": "stream",
     "name": "stderr",
     "text": [
      "100%|██████████| 500/500 [00:01<00:00, 490.34it/s, States: 38. Goals: 500. Eps: 0.100. MaxR: -17]\n"
     ]
    },
    {
     "output_type": "stream",
     "name": "stdout",
     "text": [
      "Training agent: TabularQLearner in environment CliffWalkingEnv\n"
     ]
    },
    {
     "output_type": "stream",
     "name": "stderr",
     "text": [
      "100%|██████████| 500/500 [00:01<00:00, 340.79it/s, States: 38. Goals: 500. Eps: 0.100. MaxR: -13]\n"
     ]
    },
    {
     "output_type": "stream",
     "name": "stdout",
     "text": [
      "Training agent: TabularSarsaLearner in environment CliffWalkingEnv\n"
     ]
    },
    {
     "output_type": "stream",
     "name": "stderr",
     "text": [
      "100%|██████████| 500/500 [00:01<00:00, 423.25it/s, States: 38. Goals: 500. Eps: 0.100. MaxR: -17]\n"
     ]
    },
    {
     "output_type": "stream",
     "name": "stdout",
     "text": [
      "Training agent: TabularExpectedSarsaLearner in environment CliffWalkingEnv\n"
     ]
    },
    {
     "output_type": "stream",
     "name": "stderr",
     "text": [
      "100%|██████████| 500/500 [00:01<00:00, 351.55it/s, States: 38. Goals: 500. Eps: 0.100. MaxR: -15]\n"
     ]
    },
    {
     "output_type": "stream",
     "name": "stdout",
     "text": [
      "Training agent: TabularQLearner in environment CliffWalkingEnv\n"
     ]
    },
    {
     "output_type": "stream",
     "name": "stderr",
     "text": [
      "100%|██████████| 500/500 [00:01<00:00, 284.20it/s, States: 38. Goals: 500. Eps: 0.100. MaxR: -15]\n"
     ]
    },
    {
     "output_type": "stream",
     "name": "stdout",
     "text": [
      "Training agent: TabularSarsaLearner in environment CliffWalkingEnv\n"
     ]
    },
    {
     "output_type": "stream",
     "name": "stderr",
     "text": [
      "100%|██████████| 500/500 [00:01<00:00, 355.55it/s, States: 38. Goals: 500. Eps: 0.100. MaxR: -15]\n"
     ]
    },
    {
     "output_type": "stream",
     "name": "stdout",
     "text": [
      "Training agent: TabularExpectedSarsaLearner in environment CliffWalkingEnv\n"
     ]
    },
    {
     "output_type": "stream",
     "name": "stderr",
     "text": [
      "100%|██████████| 500/500 [00:01<00:00, 270.34it/s, States: 38. Goals: 500. Eps: 0.100. MaxR: -17]\n"
     ]
    },
    {
     "output_type": "stream",
     "name": "stdout",
     "text": [
      "Training agent: TabularQLearner in environment CliffWalkingEnv\n"
     ]
    },
    {
     "output_type": "stream",
     "name": "stderr",
     "text": [
      "100%|██████████| 500/500 [00:02<00:00, 200.77it/s, States: 38. Goals: 500. Eps: 0.100. MaxR: -13]\n"
     ]
    },
    {
     "output_type": "stream",
     "name": "stdout",
     "text": [
      "Training agent: TabularSarsaLearner in environment CliffWalkingEnv\n"
     ]
    },
    {
     "output_type": "stream",
     "name": "stderr",
     "text": [
      "100%|██████████| 500/500 [00:02<00:00, 236.18it/s, States: 38. Goals: 500. Eps: 0.100. MaxR: -17]\n"
     ]
    },
    {
     "output_type": "stream",
     "name": "stdout",
     "text": [
      "Training agent: TabularExpectedSarsaLearner in environment CliffWalkingEnv\n"
     ]
    },
    {
     "output_type": "stream",
     "name": "stderr",
     "text": [
      "100%|██████████| 500/500 [00:01<00:00, 252.45it/s, States: 38. Goals: 500. Eps: 0.100. MaxR: -15]\n"
     ]
    },
    {
     "output_type": "display_data",
     "data": {
      "image/png": "[encoded data removed]",
      "text/plain": [
       "<Figure size 432x288 with 1 Axes>"
      ]
     },
     "metadata": {
      "needs_background": "light"
     }
    }
   ],
   "metadata": {}
  }
 ],
 "metadata": {
  "kernelspec": {
   "name": "python3",
   "display_name": "Python 3.8.11 64-bit ('base': conda)"
  },
  "language_info": {
   "codemirror_mode": {
    "name": "ipython",
    "version": 3
   },
   "file_extension": ".py",
   "mimetype": "text/x-python",
   "name": "python",
   "nbconvert_exporter": "python",
   "pygments_lexer": "ipython3",
   "version": "3.8.11"
  },
  "interpreter": {
   "hash": "b3ba2566441a7c06988d0923437866b63cedc61552a5af99d1f4fb67d367b25f"
  }
 },
 "nbformat": 4,
 "nbformat_minor": 5
}